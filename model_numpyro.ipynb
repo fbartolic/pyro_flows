{
 "cells": [
  {
   "cell_type": "code",
   "execution_count": 1,
   "metadata": {},
   "outputs": [],
   "source": [
    "import numpy as np\n",
    "from matplotlib import pyplot as plt\n",
    "\n",
    "import jax.numpy as jnp\n",
    "from jax import random, lax, jit, vmap\n",
    "\n",
    "import numpyro\n",
    "import numpyro.distributions as dist\n",
    "from numpyro.infer.autoguide import AutoBNAFNormal, AutoIAFNormal\n",
    "from numpyro import optim\n",
    "from numpyro.infer import SVI, Trace_ELBO, MCMC, NUTS, init_to_value\n",
    "from numpyro.infer.reparam import NeuTraReparam"
   ]
  },
  {
   "cell_type": "code",
   "execution_count": 2,
   "metadata": {},
   "outputs": [],
   "source": [
    "# Load data\n",
    "lc = np.loadtxt(\"lc.txt\")\n",
    "interp = np.loadtxt(\"interp.txt\")\n",
    "t, F, Ferr = lc\n",
    "points, zeta_e, zeta_n, zeta_e_dot, zeta_n_dot = interp"
   ]
  },
  {
   "cell_type": "code",
   "execution_count": 3,
   "metadata": {},
   "outputs": [],
   "source": [
    "def model(t, F, Ferr):\n",
    "    ln_DeltaF = numpyro.sample(\"ln_DeltaF\", dist.Normal(4.0, 4.0))\n",
    "    DeltaF = jnp.exp(ln_DeltaF)\n",
    "    ln_Fbase = numpyro.sample(\"ln_Fbase\", dist.Normal(2.0, 4.0))\n",
    "    Fbase = jnp.exp(ln_Fbase)\n",
    "    t0 = numpyro.sample(\"t0\", dist.Normal(3630.0, 50.0))\n",
    "    ln_tE = numpyro.sample(\"ln_tE\", dist.Normal(3.0, 6.0))\n",
    "    tE = jnp.exp(ln_tE)\n",
    "    u0 = numpyro.sample(\"u0\", dist.Normal(0.0, 1.0))\n",
    "    piEE = numpyro.sample(\"piEE\", dist.Normal(0.0, 0.5))\n",
    "    piEN = numpyro.sample(\"piEN\", dist.Normal(0.0, 0.5))\n",
    "\n",
    "    # Compute trajectory\n",
    "    zeta_e_t = jnp.interp(t, points, zeta_e)\n",
    "    zeta_n_t = jnp.interp(t, points, zeta_n)\n",
    "    zeta_e_t0 = jnp.interp(t0, points, zeta_e)\n",
    "    zeta_n_t0 = jnp.interp(t0, points, zeta_n)\n",
    "    zeta_e_dot_t0 = jnp.interp(t0, points, zeta_e_dot)\n",
    "    zeta_n_dot_t0 = jnp.interp(t0, points, zeta_n_dot)\n",
    "\n",
    "    delta_zeta_e = zeta_e_t - zeta_e_t0 - (t - t0) * zeta_e_dot_t0\n",
    "    delta_zeta_n = zeta_n_t - zeta_n_t0 - (t - t0) * zeta_n_dot_t0\n",
    "\n",
    "    u_per = u0 + piEN * delta_zeta_e - piEE * delta_zeta_n\n",
    "    u_par = (t - t0) / tE + piEE * delta_zeta_e + piEN * delta_zeta_n\n",
    "    u = jnp.sqrt(u_per ** 2 + u_par ** 2)\n",
    "\n",
    "    # Magnification\n",
    "    A_u = (u ** 2 + 2) / (u * jnp.sqrt(u ** 2 + 4))\n",
    "    A_u0 = (u0 ** 2 + 2) / (jnp.abs(u0) * jnp.sqrt(u0 ** 2 + 4))\n",
    "    A = (A_u - 1) / (A_u0 - 1)\n",
    "    F_pred = DeltaF * A + Fbase\n",
    "\n",
    "    ln_c = numpyro.sample(\"ln_c\", dist.Exponential(1 / 2.0))\n",
    "\n",
    "    return numpyro.sample(\"data_dist\", dist.Normal(F_pred, jnp.exp(ln_c) * Ferr), obs=F)"
   ]
  },
  {
   "cell_type": "markdown",
   "metadata": {},
   "source": [
    "## NUTS"
   ]
  },
  {
   "cell_type": "code",
   "execution_count": 4,
   "metadata": {},
   "outputs": [
    {
     "name": "stderr",
     "output_type": "stream",
     "text": [
      "sample: 100%|██████████| 2500/2500 [00:11<00:00, 214.53it/s, 63 steps of size 6.80e-02. acc. prob=0.96]  \n"
     ]
    }
   ],
   "source": [
    "init_vals = {\n",
    "    \"ln_DeltaF\": np.log(250),\n",
    "    \"ln_Fbase\": np.log(188),\n",
    "    \"t0\": 3630.0,\n",
    "    \"ln_tE\": 3.1,\n",
    "    \"u0\": 0.5,\n",
    "}\n",
    "\n",
    "nuts_kernel = NUTS(\n",
    "    model,\n",
    "    dense_mass=True,\n",
    "    target_accept_prob=0.95,\n",
    "    init_strategy=init_to_value(values=init_vals),\n",
    ")\n",
    "mcmc = MCMC(nuts_kernel, num_warmup=500, num_samples=2000)\n",
    "rng_key = random.PRNGKey(0)\n",
    "mcmc.run(rng_key, t, F, Ferr)"
   ]
  },
  {
   "cell_type": "code",
   "execution_count": 5,
   "metadata": {},
   "outputs": [
    {
     "name": "stdout",
     "output_type": "stream",
     "text": [
      "\n",
      "                 mean       std    median      5.0%     95.0%     n_eff     r_hat\n",
      "  ln_DeltaF      5.58      0.00      5.58      5.57      5.58   2504.67      1.00\n",
      "   ln_Fbase      5.23      0.00      5.23      5.23      5.23   1794.19      1.00\n",
      "       ln_c      0.20      0.03      0.20      0.15      0.25   1565.42      1.00\n",
      "      ln_tE      4.53      0.03      4.53      4.49      4.58   1838.56      1.00\n",
      "       piEE      0.12      0.01      0.12      0.10      0.14   1680.86      1.00\n",
      "       piEN      0.30      0.04      0.30      0.22      0.37   1585.67      1.00\n",
      "         t0   3629.78      0.18   3629.78   3629.47   3630.06   1510.52      1.00\n",
      "         u0      0.49      0.02      0.49      0.45      0.53   1687.96      1.00\n",
      "\n",
      "Number of divergences: 0\n"
     ]
    }
   ],
   "source": [
    "mcmc.print_summary()"
   ]
  },
  {
   "cell_type": "markdown",
   "metadata": {},
   "source": [
    "## Plot likelihood"
   ]
  },
  {
   "cell_type": "code",
   "execution_count": 6,
   "metadata": {},
   "outputs": [
    {
     "data": {
      "text/plain": [
       "[Text(0, 0.5, '$\\\\pi_{EN}$'), Text(0.5, 0, '$u_0$')]"
      ]
     },
     "execution_count": 6,
     "metadata": {},
     "output_type": "execute_result"
    },
    {
     "data": {
      "image/png": "[encoded data removed]",
      "text/plain": [
       "<Figure size 432x360 with 2 Axes>"
      ]
     },
     "metadata": {
      "needs_background": "light"
     },
     "output_type": "display_data"
    }
   ],
   "source": [
    "def eval_ll_surface(param=\"piEN\"):\n",
    "    ln_DeltaF = float(mcmc.get_samples()[\"ln_DeltaF\"][-1])\n",
    "    DeltaF = jnp.exp(ln_DeltaF)\n",
    "    ln_Fbase = float(mcmc.get_samples()[\"ln_Fbase\"][-1])\n",
    "    Fbase = jnp.exp(ln_Fbase)\n",
    "    t0 = float(mcmc.get_samples()[\"t0\"][-1])\n",
    "    ln_tE = float(mcmc.get_samples()[\"ln_tE\"][-1])\n",
    "    tE = jnp.exp(ln_tE)\n",
    "    piEE = float(mcmc.get_samples()[\"piEE\"][-1])\n",
    "\n",
    "    piEN_ = jnp.linspace(-0.9, 0.9, 800)\n",
    "    u0_ = jnp.linspace(-0.8, 0.8, 800)\n",
    "    u0_grid, piEN_grid = jnp.meshgrid(u0_, piEN_)\n",
    "\n",
    "    # Compute trajectory\n",
    "    zeta_e_t = jnp.interp(t, points, zeta_e)\n",
    "    zeta_n_t = jnp.interp(t, points, zeta_n)\n",
    "    zeta_e_t0 = jnp.interp(t0, points, zeta_e)\n",
    "    zeta_n_t0 = jnp.interp(t0, points, zeta_n)\n",
    "    zeta_e_dot_t0 = jnp.interp(t0, points, zeta_e_dot)\n",
    "    zeta_n_dot_t0 = jnp.interp(t0, points, zeta_n_dot)\n",
    "\n",
    "    delta_zeta_e = zeta_e_t - zeta_e_t0 - (t - t0) * zeta_e_dot_t0\n",
    "    delta_zeta_n = zeta_n_t - zeta_n_t0 - (t - t0) * zeta_n_dot_t0\n",
    "    ln_c = float(mcmc.get_samples()[\"ln_c\"][-1])\n",
    "\n",
    "    def eval_ll(u0, piEx):\n",
    "        u_per = u0 + piEx * delta_zeta_e - piEE * delta_zeta_n\n",
    "        u_par = (t - t0) / tE + piEE * delta_zeta_e + piEx * delta_zeta_n\n",
    "\n",
    "        u = jnp.sqrt(u_per ** 2 + u_par ** 2)\n",
    "\n",
    "        # Magnification\n",
    "        A_u = (u ** 2 + 2) / (u * jnp.sqrt(u ** 2 + 4))\n",
    "        A_u0 = (u0 ** 2 + 2) / (jnp.abs(u0) * jnp.sqrt(u0 ** 2 + 4))\n",
    "        A = (A_u - 1) / (A_u0 - 1)\n",
    "        F_pred = DeltaF * A + Fbase\n",
    "\n",
    "        return jnp.sum(-0.5 * (F_pred - F) ** 2 / (jnp.exp(ln_c) * Ferr) ** 2)\n",
    "\n",
    "    eval_ll_vectorized = jit(vmap(vmap(eval_ll)))\n",
    "\n",
    "    return u0_grid, piEN_grid, eval_ll_vectorized(u0_grid, piEN_grid)\n",
    "\n",
    "\n",
    "u0_grid, piEN_grid, ll = eval_ll_surface()\n",
    "\n",
    "fig, ax = plt.subplots(figsize=(6, 5))\n",
    "im = ax.pcolormesh(u0_grid, piEN_grid, ll, vmin=-450)\n",
    "fig.colorbar(im, orientation=\"vertical\")\n",
    "\n",
    "ax.set(xlabel=r\"$u_0$\", ylabel=r\"$\\pi_{EN}$\")"
   ]
  },
  {
   "cell_type": "markdown",
   "metadata": {},
   "source": [
    "## AutoBNAF"
   ]
  },
  {
   "cell_type": "code",
   "execution_count": 7,
   "metadata": {},
   "outputs": [],
   "source": [
    "# Initialize guide\n",
    "# Hidden layer i has ``hidden_factors[i]`` hidden units per input dimension (H in the paper)\n",
    "guide = AutoBNAFNormal(model, num_flows=5, hidden_factors=[25, 25, 25, 25])\n",
    "\n",
    "schedule = optim.optimizers.polynomial_decay(0.01, 10, 0.001)\n",
    "svi = SVI(model, guide, optim.Adam(schedule), Trace_ELBO(num_particles=10))\n",
    "svi_state = svi.init(random.PRNGKey(1), t, F, Ferr)\n",
    "\n",
    "last_state, losses = lax.scan(\n",
    "    lambda state, i: svi.update(state, t, F, Ferr), svi_state, jnp.zeros(40000)\n",
    ")\n",
    "params = svi.get_params(last_state)"
   ]
  },
  {
   "cell_type": "code",
   "execution_count": 8,
   "metadata": {},
   "outputs": [
    {
     "data": {
      "image/png": "[encoded data removed]",
      "text/plain": [
       "<Figure size 432x288 with 1 Axes>"
      ]
     },
     "metadata": {
      "needs_background": "light"
     },
     "output_type": "display_data"
    }
   ],
   "source": [
    "plt.plot(losses)\n",
    "plt.ylabel(\"loss\")\n",
    "plt.xlabel(\"steps\")\n",
    "plt.yscale(\"log\")"
   ]
  },
  {
   "cell_type": "code",
   "execution_count": 9,
   "metadata": {},
   "outputs": [
    {
     "data": {
      "image/png": "[encoded data removed]",
      "text/plain": [
       "<Figure size 432x360 with 1 Axes>"
      ]
     },
     "metadata": {
      "needs_background": "light"
     },
     "output_type": "display_data"
    }
   ],
   "source": [
    "# Get samples from guide\n",
    "guide_samples = guide.sample_posterior(\n",
    "    random.PRNGKey(2), params, sample_shape=(500,)\n",
    ").copy()\n",
    "\n",
    "fig, ax = plt.subplots(figsize=(6, 5))\n",
    "\n",
    "ax.scatter(guide_samples[\"u0\"], guide_samples[\"piEN\"], color=\"black\", alpha=0.01)\n",
    "ax.set(xlim=(-0.8, 0.8), ylim=(-0.8, 0.8))\n",
    "ax.set(xlabel=r\"$u_0$\", ylabel=r\"$\\pi_{EN}$\")\n",
    "ax.grid()"
   ]
  },
  {
   "cell_type": "code",
   "execution_count": null,
   "metadata": {},
   "outputs": [],
   "source": []
  }
 ],
 "metadata": {
  "kernelspec": {
   "display_name": "Python [conda env:caustic]",
   "language": "python",
   "name": "conda-env-caustic-py"
  },
  "language_info": {
   "codemirror_mode": {
    "name": "ipython",
    "version": 3
   },
   "file_extension": ".py",
   "mimetype": "text/x-python",
   "name": "python",
   "nbconvert_exporter": "python",
   "pygments_lexer": "ipython3",
   "version": "3.8.2"
  }
 },
 "nbformat": 4,
 "nbformat_minor": 4
}
